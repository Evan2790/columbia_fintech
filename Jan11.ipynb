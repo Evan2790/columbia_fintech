{
 "cells": [
  {
   "cell_type": "code",
   "execution_count": 4,
   "id": "61334be0-bb1a-41fe-a10d-5d2b975ac584",
   "metadata": {
    "tags": []
   },
   "outputs": [],
   "source": [
    "import random as random"
   ]
  },
  {
   "cell_type": "code",
   "execution_count": 6,
   "id": "6aee1bf9-61d4-44d2-aef5-e420393bfc20",
   "metadata": {
    "tags": []
   },
   "outputs": [
    {
     "name": "stdout",
     "output_type": "stream",
     "text": [
      "true\n"
     ]
    }
   ],
   "source": [
    "# QUESTION 1: Create a function called `number_guess` that takes in an integer as an argument.\n",
    "# If the number is 42, print(true). If it isn't 42, print(false)\n",
    "\n",
    "def number_guess(number):\n",
    "    if number == 42:\n",
    "        print('true')\n",
    "    else:\n",
    "        print('false')\n",
    "        \n",
    "number_guess(42)"
   ]
  },
  {
   "cell_type": "code",
   "execution_count": 16,
   "id": "f1c2fd3b-8dea-4064-984e-a60583300c73",
   "metadata": {
    "tags": []
   },
   "outputs": [],
   "source": [
    "# QUESTION 2: Write a function that takes in a list of numbers. the function should print the smallest number in the given list\n",
    "\n",
    "def smallest_number(list_of_numbers):\n",
    "    smallest_num = min(list_of_numbers)\n",
    "    print(smallest_num)\n",
    "    \n",
    "smallest_num = (15, -8, 5, 8, 10)\n",
    "\n"
   ]
  },
  {
   "cell_type": "code",
   "execution_count": null,
   "id": "38dbb3e0-758f-4c0f-b965-105f98f3bf6f",
   "metadata": {},
   "outputs": [],
   "source": [
    "import string\n",
    "\n",
    "def check_strength(password)\n",
    "    contains_number = False\n",
    "    contains_letters = False\n",
    "    \n",
    "    count = 0\n",
    "    \n",
    "    for char in password:\n",
    "        count += 1\n",
    "        \n",
    "        \n",
    "        "
   ]
  },
  {
   "cell_type": "code",
   "execution_count": null,
   "id": "538b641a-a90f-4d7f-a5ae-bfc724f61b95",
   "metadata": {},
   "outputs": [],
   "source": [
    "from pathlib import Path\n",
    "import pandas as pd\n",
    "\n",
    "data = pd.read_csv(Path(\"Resources/netflix_ratings.csv\"))\n",
    "movie = input(\"What Movie?\")\n",
    "\n",
    "data_filter = data[data['title'] == movie]\n",
    "if data_filter.shape[0] == 0:\n",
    "    print(\"Movie is not there\")\n",
    "else:\n",
    "    display(data_filter)\n",
    "                   \n",
    "                  \n",
    "        \n",
    "        "
   ]
  },
  {
   "cell_type": "code",
   "execution_count": 1,
   "id": "fc2650d7-1ed5-4099-aa10-9450f76b8498",
   "metadata": {
    "tags": []
   },
   "outputs": [],
   "source": [
    "import numpy"
   ]
  },
  {
   "cell_type": "code",
   "execution_count": null,
   "id": "dd3da8a4-cb7b-48d0-b64a-33a788469141",
   "metadata": {},
   "outputs": [],
   "source": []
  }
 ],
 "metadata": {
  "kernelspec": {
   "display_name": "Python 3 (ipykernel)",
   "language": "python",
   "name": "python3"
  },
  "language_info": {
   "codemirror_mode": {
    "name": "ipython",
    "version": 3
   },
   "file_extension": ".py",
   "mimetype": "text/x-python",
   "name": "python",
   "nbconvert_exporter": "python",
   "pygments_lexer": "ipython3",
   "version": "3.10.13"
  }
 },
 "nbformat": 4,
 "nbformat_minor": 5
}
